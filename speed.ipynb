{
 "cells": [
  {
   "cell_type": "markdown",
   "metadata": {},
   "source": [
    "## Encoder Speed"
   ]
  },
  {
   "cell_type": "code",
   "execution_count": 1,
   "metadata": {},
   "outputs": [],
   "source": [
    "import time\n",
    "import torch as t\n",
    "import torch.nn as nn"
   ]
  },
  {
   "cell_type": "code",
   "execution_count": 3,
   "metadata": {},
   "outputs": [],
   "source": [
    "batch_size = 1024\n",
    "input_dim = 512\n",
    "dict_size = 1_000_000"
   ]
  },
  {
   "cell_type": "code",
   "execution_count": 4,
   "metadata": {},
   "outputs": [],
   "source": [
    "x = t.randn(batch_size, input_dim).cuda()"
   ]
  },
  {
   "cell_type": "code",
   "execution_count": 5,
   "metadata": {},
   "outputs": [],
   "source": [
    "W_small = nn.Linear(input_dim, dict_size // 16).cuda()\n",
    "W_big = nn.Linear(input_dim, dict_size).cuda()"
   ]
  },
  {
   "cell_type": "code",
   "execution_count": 20,
   "metadata": {},
   "outputs": [
    {
     "name": "stdout",
     "output_type": "stream",
     "text": [
      "Forward pass took 3.243 milliseconds\n"
     ]
    }
   ],
   "source": [
    "# Warm-up run\n",
    "_ = W_small(x)\n",
    "\n",
    "# Ensure all CUDA operations are completed\n",
    "t.cuda.synchronize()\n",
    "\n",
    "# Time the operation\n",
    "start = t.cuda.Event(enable_timing=True)\n",
    "end = t.cuda.Event(enable_timing=True)\n",
    "\n",
    "start.record()\n",
    "output = W_small(x)\n",
    "end.record()\n",
    "\n",
    "# Ensure all CUDA operations are completed\n",
    "t.cuda.synchronize()\n",
    "\n",
    "elapsed_time = start.elapsed_time(end)\n",
    "print(f\"Forward pass took {elapsed_time:.3f} milliseconds\")\n"
   ]
  },
  {
   "cell_type": "code",
   "execution_count": 21,
   "metadata": {},
   "outputs": [
    {
     "name": "stdout",
     "output_type": "stream",
     "text": [
      "Forward pass took 55.207 milliseconds\n"
     ]
    }
   ],
   "source": [
    "# Warm-up run\n",
    "_ = W_big(x)\n",
    "\n",
    "# Ensure all CUDA operations are completed\n",
    "t.cuda.synchronize()\n",
    "\n",
    "# Time the operation\n",
    "start = t.cuda.Event(enable_timing=True)\n",
    "end = t.cuda.Event(enable_timing=True)\n",
    "\n",
    "start.record()\n",
    "output = W_big(x)\n",
    "end.record()\n",
    "\n",
    "# Ensure all CUDA operations are completed\n",
    "t.cuda.synchronize()\n",
    "\n",
    "elapsed_time = start.elapsed_time(end)\n",
    "print(f\"Forward pass took {elapsed_time:.3f} milliseconds\")\n"
   ]
  }
 ],
 "metadata": {
  "kernelspec": {
   "display_name": "Python 3",
   "language": "python",
   "name": "python3"
  },
  "language_info": {
   "codemirror_mode": {
    "name": "ipython",
    "version": 3
   },
   "file_extension": ".py",
   "mimetype": "text/x-python",
   "name": "python",
   "nbconvert_exporter": "python",
   "pygments_lexer": "ipython3",
   "version": "3.9.19"
  }
 },
 "nbformat": 4,
 "nbformat_minor": 2
}
