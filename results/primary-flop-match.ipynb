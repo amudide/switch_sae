{
 "cells": [
  {
   "cell_type": "code",
   "execution_count": 1,
   "metadata": {},
   "outputs": [],
   "source": [
    "import pandas as pd\n",
    "import numpy as np\n",
    "import matplotlib.pyplot as plt\n",
    "import plotly\n",
    "import re"
   ]
  },
  {
   "cell_type": "code",
   "execution_count": 2,
   "metadata": {},
   "outputs": [],
   "source": [
    "def clean(df, topk=False):\n",
    "    df = df[df['State'] == 'finished']\n",
    "\n",
    "    if topk:\n",
    "        patterns = ['effective_l0$', 'frac_recovered$', 'mse_loss$', 'loss_original$', 'loss_reconstructed']\n",
    "    else:\n",
    "        patterns = ['l0$', 'frac_recovered$', 'mse_loss$', 'loss_original$', 'loss_reconstructed']\n",
    "    filtered_columns = df.columns[df.columns.str.contains('|'.join(patterns))]\n",
    "    df = df[filtered_columns]\n",
    "    df.columns = [col.split('/')[-1] for col in df.columns]\n",
    "    \n",
    "    if topk:\n",
    "        l0 = df[\"effective_l0\"].to_numpy().flatten()\n",
    "    else:\n",
    "        l0 = df[\"l0\"].to_numpy().flatten()\n",
    "    mse_loss = df[\"mse_loss\"].to_numpy().flatten()\n",
    "    frac_recovered = df[\"frac_recovered\"].to_numpy().flatten()\n",
    "    loss_original = df[\"loss_original\"].to_numpy().flatten()\n",
    "    loss_reconstructed = df[\"loss_reconstructed\"].to_numpy().flatten()\n",
    "    delta_ce = loss_reconstructed - loss_original\n",
    "\n",
    "    data = np.array([l0, mse_loss, frac_recovered, delta_ce]).T\n",
    "    df = pd.DataFrame(data, columns=['l0', 'mse_loss', 'frac_recovered', 'delta_ce'])\n",
    "    df = df.sort_values(by='l0')\n",
    "    return df"
   ]
  },
  {
   "cell_type": "code",
   "execution_count": null,
   "metadata": {},
   "outputs": [],
   "source": [
    "df_relu = pd.read_csv(\"primary-relu.csv\")\n",
    "df_relu = clean(df_relu)\n",
    "\n",
    "df_gated = pd.read_csv(\"primary-gated.csv\")\n",
    "df_gated = clean(df_gated)\n",
    "\n",
    "df_topk = pd.read_csv(\"primary-topk.csv\")\n",
    "df_topk = clean(df_topk, topk=True)"
   ]
  },
  {
   "cell_type": "code",
   "execution_count": null,
   "metadata": {},
   "outputs": [],
   "source": [
    "df_relu.to_csv(\"primary-relu-clean.csv\")\n",
    "df_gated.to_csv(\"primary-gated-clean.csv\")\n",
    "df_topk.to_csv(\"primary-topk-clean.csv\")"
   ]
  },
  {
   "cell_type": "code",
   "execution_count": null,
   "metadata": {},
   "outputs": [],
   "source": [
    "df_relu = pd.read_csv(\"primary-relu-clean.csv\")\n",
    "df_gated = pd.read_csv(\"primary-gated-clean.csv\")\n",
    "df_topk = pd.read_csv(\"primary-topk-clean.csv\")"
   ]
  },
  {
   "cell_type": "markdown",
   "metadata": {},
   "source": [
    "## Plotting"
   ]
  },
  {
   "cell_type": "code",
   "execution_count": null,
   "metadata": {},
   "outputs": [],
   "source": [
    "plt.plot(df_topk['l0'], df_topk['mse_loss'], label='TopK', marker='s', color='#9467bd')\n",
    "plt.plot(df_gated['l0'], df_gated['mse_loss'], label='Gated', marker='*', color='#1f77b4')\n",
    "plt.plot(df_relu['l0'], df_relu['mse_loss'], label='ReLU', marker='o', color='#2ca02c')\n",
    "\n",
    "plt.plot(df_16['l0'], df_16['mse_loss'], label='Switch (16x)', marker='x', color='#ff7f0e')\n",
    "\n",
    "plt.xscale('log')\n",
    "plt.yscale('log')\n",
    "\n",
    "plt.xlabel(\"Sparsity (L0)\")\n",
    "plt.ylabel(\"MSE\")\n",
    "\n",
    "plt.legend()\n",
    "\n",
    "plt.grid(True, which=\"major\", ls=\"-\", alpha=0.2)\n",
    "\n",
    "\n",
    "plt.tight_layout()\n",
    "plt.savefig(\"flopmatch_l0_mse.png\")\n",
    "plt.show()"
   ]
  },
  {
   "cell_type": "code",
   "execution_count": null,
   "metadata": {},
   "outputs": [],
   "source": [
    "plt.plot(df_topk['l0'], df_topk['frac_recovered'], label='TopK', marker='s', color='#9467bd')\n",
    "plt.plot(df_gated['l0'], df_gated['frac_recovered'], label='Gated', marker='*', color='#1f77b4')\n",
    "plt.plot(df_relu['l0'], df_relu['frac_recovered'], label='ReLU', marker='o', color='#2ca02c')\n",
    "\n",
    "plt.plot(df_16['l0'], df_16['frac_recovered'], label='Switch (16x)', marker='x', color='#ff7f0e')\n",
    "\n",
    "plt.xscale('log')\n",
    "#plt.yscale('log')\n",
    "\n",
    "plt.xlabel(\"Sparsity (L0)\")\n",
    "plt.ylabel(\"Loss Recovered\")\n",
    "\n",
    "plt.legend()\n",
    "\n",
    "plt.grid(True, which=\"major\", ls=\"-\", alpha=0.2)\n",
    "\n",
    "\n",
    "plt.tight_layout()\n",
    "plt.savefig(\"flopmatch_l0_lossrec.png\")\n",
    "plt.show()"
   ]
  },
  {
   "cell_type": "code",
   "execution_count": null,
   "metadata": {},
   "outputs": [],
   "source": [
    "plt.plot(df_topk['mse_loss'], df_topk['delta_ce'], label='TopK', marker='s', color='#9467bd')\n",
    "plt.plot(df_gated['mse_loss'], df_gated['delta_ce'], label='Gated', marker='*', color='#1f77b4')\n",
    "plt.plot(df_relu['mse_loss'], df_relu['delta_ce'], label='ReLU', marker='o', color='#2ca02c')\n",
    "\n",
    "plt.plot(df_16['mse_loss'], df_16['delta_ce'], label='Switch (16x) [Softmax]', marker='x', color='#ff7f0e')\n",
    "\n",
    "\n",
    "plt.xscale('log')\n",
    "plt.yscale('log')\n",
    "\n",
    "plt.xlabel(\"MSE\")\n",
    "plt.ylabel(\"Delta cross-entropy\")\n",
    "\n",
    "plt.legend()\n",
    "\n",
    "plt.grid(True, which=\"major\", ls=\"-\", alpha=0.2)\n",
    "\n",
    "\n",
    "plt.tight_layout()\n",
    "plt.savefig(\"flopmatch_mse_deltace.png\")\n",
    "plt.show()"
   ]
  },
  {
   "cell_type": "code",
   "execution_count": null,
   "metadata": {},
   "outputs": [],
   "source": []
  },
  {
   "cell_type": "code",
   "execution_count": null,
   "metadata": {},
   "outputs": [],
   "source": []
  },
  {
   "cell_type": "code",
   "execution_count": null,
   "metadata": {},
   "outputs": [],
   "source": []
  },
  {
   "cell_type": "code",
   "execution_count": null,
   "metadata": {},
   "outputs": [],
   "source": []
  },
  {
   "cell_type": "code",
   "execution_count": null,
   "metadata": {},
   "outputs": [],
   "source": []
  },
  {
   "cell_type": "code",
   "execution_count": null,
   "metadata": {},
   "outputs": [],
   "source": []
  },
  {
   "cell_type": "code",
   "execution_count": null,
   "metadata": {},
   "outputs": [],
   "source": []
  }
 ],
 "metadata": {
  "kernelspec": {
   "display_name": "Python 3",
   "language": "python",
   "name": "python3"
  },
  "language_info": {
   "codemirror_mode": {
    "name": "ipython",
    "version": 3
   },
   "file_extension": ".py",
   "mimetype": "text/x-python",
   "name": "python",
   "nbconvert_exporter": "python",
   "pygments_lexer": "ipython3",
   "version": "3.9.19"
  }
 },
 "nbformat": 4,
 "nbformat_minor": 2
}
